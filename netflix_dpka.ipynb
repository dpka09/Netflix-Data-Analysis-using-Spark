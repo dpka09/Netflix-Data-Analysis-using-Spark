{
 "cells": [
  {
   "cell_type": "code",
   "execution_count": 1,
   "id": "e2dbc948",
   "metadata": {},
   "outputs": [],
   "source": [
    "import findspark\n",
    "findspark.init()"
   ]
  },
  {
   "cell_type": "code",
   "execution_count": 2,
   "id": "0905fc1c",
   "metadata": {},
   "outputs": [],
   "source": [
    "from pyspark import SparkContext\n",
    "sc=SparkContext()"
   ]
  },
  {
   "cell_type": "code",
   "execution_count": 3,
   "id": "747bad5e",
   "metadata": {},
   "outputs": [],
   "source": [
    "import json"
   ]
  },
  {
   "cell_type": "code",
   "execution_count": 4,
   "id": "e496a26a",
   "metadata": {},
   "outputs": [],
   "source": [
    "rdd=sc.textFile(\"/home/deepika/Downloads/netflix_titles.json\")"
   ]
  },
  {
   "cell_type": "code",
   "execution_count": 5,
   "id": "50623c55",
   "metadata": {},
   "outputs": [
    {
     "data": {
      "text/plain": [
       "/home/deepika/Downloads/netflix_titles.json MapPartitionsRDD[1] at textFile at NativeMethodAccessorImpl.java:0"
      ]
     },
     "execution_count": 5,
     "metadata": {},
     "output_type": "execute_result"
    }
   ],
   "source": [
    "from pyspark.storagelevel import StorageLevel\n",
    "rdd.persist(StorageLevel.MEMORY_ONLY)"
   ]
  },
  {
   "cell_type": "code",
   "execution_count": 6,
   "id": "ae2c9622",
   "metadata": {},
   "outputs": [],
   "source": [
    "data= rdd.map(lambda x: json.loads(x))"
   ]
  },
  {
   "cell_type": "code",
   "execution_count": 7,
   "id": "e87d7853",
   "metadata": {},
   "outputs": [
    {
     "data": {
      "text/plain": [
       "[{'show_id': 's1',\n",
       "  'type': 'TV Show',\n",
       "  'title': '3%',\n",
       "  'director': '',\n",
       "  'cast': 'João Miguel, Bianca Comparato, Michel Gomes, Rodolfo Valente, Vaneza Oliveira, Rafael Lozano, Viviane Porto, Mel Fronckowiak, Sergio Mamberti, Zezé Motta, Celso Frateschi',\n",
       "  'country': 'Brazil',\n",
       "  'date_added': 'August 14, 2020',\n",
       "  'release_year': '2020',\n",
       "  'rating': 'TV-MA',\n",
       "  'duration': '4 Seasons',\n",
       "  'listed_in': 'International TV Shows, TV Dramas, TV Sci-Fi & Fantasy',\n",
       "  'description': 'In a future where the elite inhabit an island paradise far from the crowded slums, you get one chance to join the 3% saved from squalor.'}]"
      ]
     },
     "execution_count": 7,
     "metadata": {},
     "output_type": "execute_result"
    }
   ],
   "source": [
    "data.take(1)"
   ]
  },
  {
   "cell_type": "code",
   "execution_count": null,
   "id": "c58294e2",
   "metadata": {},
   "outputs": [],
   "source": []
  },
  {
   "cell_type": "markdown",
   "id": "5e0a48c3",
   "metadata": {},
   "source": [
    "\n",
    "# how many titles actor/actress appeared in?"
   ]
  },
  {
   "cell_type": "code",
   "execution_count": 8,
   "id": "fb4afdc4",
   "metadata": {},
   "outputs": [],
   "source": [
    "titles= data.flatMap(lambda x: (x['cast'].split(\",\")))"
   ]
  },
  {
   "cell_type": "code",
   "execution_count": 9,
   "id": "524620ef",
   "metadata": {},
   "outputs": [],
   "source": [
    "gap=titles.filter(lambda x: x !='')"
   ]
  },
  {
   "cell_type": "code",
   "execution_count": 41,
   "id": "95b02297",
   "metadata": {},
   "outputs": [
    {
     "data": {
      "text/plain": [
       "['João Miguel',\n",
       " ' Bianca Comparato',\n",
       " ' Michel Gomes',\n",
       " ' Rodolfo Valente',\n",
       " ' Vaneza Oliveira',\n",
       " ' Rafael Lozano',\n",
       " ' Viviane Porto',\n",
       " ' Mel Fronckowiak',\n",
       " ' Sergio Mamberti',\n",
       " ' Zezé Motta']"
      ]
     },
     "execution_count": 41,
     "metadata": {},
     "output_type": "execute_result"
    }
   ],
   "source": [
    "gap.take(10)"
   ]
  },
  {
   "cell_type": "code",
   "execution_count": 11,
   "id": "a0f95c3c",
   "metadata": {},
   "outputs": [],
   "source": [
    "result= gap.map(lambda x: (x,1)).reduceByKey(lambda x,y: x+y)"
   ]
  },
  {
   "cell_type": "code",
   "execution_count": 40,
   "id": "22f18f86",
   "metadata": {},
   "outputs": [
    {
     "data": {
      "text/plain": [
       "[(' Vaneza Oliveira', 1),\n",
       " (' Viviane Porto', 1),\n",
       " (' Mel Fronckowiak', 1),\n",
       " (' Celso Frateschi', 1),\n",
       " (' Héctor Bonilla', 1),\n",
       " (' Octavio Michel', 1),\n",
       " (' Carmen Beato', 3),\n",
       " ('Tedd Chan', 1),\n",
       " (' Henley Hii', 5),\n",
       " (' Lawrence Koh', 1)]"
      ]
     },
     "execution_count": 40,
     "metadata": {},
     "output_type": "execute_result"
    }
   ],
   "source": [
    "result.take(10)"
   ]
  },
  {
   "cell_type": "code",
   "execution_count": 13,
   "id": "76d25ec6",
   "metadata": {},
   "outputs": [],
   "source": [
    "import os\n",
    "os.environ[\"PYTHONHASHSEED\"]=str(232)"
   ]
  },
  {
   "cell_type": "code",
   "execution_count": 14,
   "id": "6e636f51",
   "metadata": {},
   "outputs": [
    {
     "data": {
      "text/plain": [
       "[]"
      ]
     },
     "execution_count": 14,
     "metadata": {},
     "output_type": "execute_result"
    }
   ],
   "source": [
    "result.lookup(' Héctor Bonilla')"
   ]
  },
  {
   "cell_type": "code",
   "execution_count": null,
   "id": "205ef0f7",
   "metadata": {},
   "outputs": [],
   "source": []
  },
  {
   "cell_type": "markdown",
   "id": "7757c937",
   "metadata": {},
   "source": [
    "# How many movies were released in 2008?"
   ]
  },
  {
   "cell_type": "code",
   "execution_count": 15,
   "id": "b8f4f970",
   "metadata": {},
   "outputs": [],
   "source": [
    "movies=data.filter(lambda x:x['release_year']=='2008')"
   ]
  },
  {
   "cell_type": "code",
   "execution_count": 16,
   "id": "a3134d68",
   "metadata": {},
   "outputs": [
    {
     "data": {
      "text/plain": [
       "125"
      ]
     },
     "execution_count": 16,
     "metadata": {},
     "output_type": "execute_result"
    }
   ],
   "source": [
    "movies.count()"
   ]
  },
  {
   "cell_type": "code",
   "execution_count": 39,
   "id": "60061ba3",
   "metadata": {},
   "outputs": [
    {
     "data": {
      "text/plain": [
       "[{'show_id': 's5',\n",
       "  'type': 'Movie',\n",
       "  'title': '21',\n",
       "  'director': 'Robert Luketic',\n",
       "  'cast': 'Jim Sturgess, Kevin Spacey, Kate Bosworth, Aaron Yoo, Liza Lapira, Jacob Pitts, Laurence Fishburne, Jack McGee, Josh Gad, Sam Golzari, Helen Carey, Jack Gilpin',\n",
       "  'country': 'United States',\n",
       "  'date_added': 'January 1, 2020',\n",
       "  'release_year': '2008',\n",
       "  'rating': 'PG-13',\n",
       "  'duration': '123 min',\n",
       "  'listed_in': 'Dramas',\n",
       "  'description': 'A brilliant group of students become card-counting experts with the intent of swindling millions out of Las Vegas casinos by playing blackjack.'},\n",
       " {'show_id': 's10',\n",
       "  'type': 'Movie',\n",
       "  'title': '1920',\n",
       "  'director': 'Vikram Bhatt',\n",
       "  'cast': 'Rajneesh Duggal, Adah Sharma, Indraneil Sengupta, Anjori Alagh, Rajendranath Zutshi, Vipin Sharma, Amin Hajee, Shri Vallabh Vyas',\n",
       "  'country': 'India',\n",
       "  'date_added': 'December 15, 2017',\n",
       "  'release_year': '2008',\n",
       "  'rating': 'TV-MA',\n",
       "  'duration': '143 min',\n",
       "  'listed_in': 'Horror Movies, International Movies, Thrillers',\n",
       "  'description': 'An architect and his wife move into a castle that is slated to become a luxury hotel. But something inside is determined to stop the renovation.'},\n",
       " {'show_id': 's51',\n",
       "  'type': 'Movie',\n",
       "  'title': '10,000 B.C.',\n",
       "  'director': 'Roland Emmerich',\n",
       "  'cast': 'Steven Strait, Camilla Belle, Cliff Curtis, Joel Virgel, Affif Ben Badra, Mo Zinal, Nathanael Baring, Mona Hammond, Omar Sharif',\n",
       "  'country': 'United States, South Africa',\n",
       "  'date_added': 'June 1, 2019',\n",
       "  'release_year': '2008',\n",
       "  'rating': 'PG-13',\n",
       "  'duration': '109 min',\n",
       "  'listed_in': 'Action & Adventure',\n",
       "  'description': \"Fierce mammoth hunter D'Leh sets out on an impossible journey to rescue the woman he loves from a vicious warlord and save the people of his village.\"},\n",
       " {'show_id': 's78',\n",
       "  'type': 'Movie',\n",
       "  'title': '2 Alone in Paris',\n",
       "  'director': 'Ramzy Bedia, Éric Judor',\n",
       "  'cast': 'Ramzy Bedia, Éric Judor, Benoît Magimel, Kristin Scott Thomas, Élodie Bouchez, Édouard Baer, Fred Testot, Omar Sy',\n",
       "  'country': 'France',\n",
       "  'date_added': 'June 1, 2020',\n",
       "  'release_year': '2008',\n",
       "  'rating': 'TV-MA',\n",
       "  'duration': '97 min',\n",
       "  'listed_in': 'Comedies, International Movies',\n",
       "  'description': \"A bumbling Paris policeman is doggedly determined to capture the master thief that repeatedly eludes him, even when they're the last two men on Earth.\"},\n",
       " {'show_id': 's250',\n",
       "  'type': 'Movie',\n",
       "  'title': 'A Very Special Love',\n",
       "  'director': 'Cathy Garcia-Molina',\n",
       "  'cast': 'John Lloyd Cruz, Sarah Geronimo, Dante Rivero, Rowell Santiago, Johnny Revilla, Bing Pimental, Daphne Oseña-Paez, Al Tantay, Irma Adlawan, Arno Morales, Miles Ocampo',\n",
       "  'country': 'Philippines',\n",
       "  'date_added': 'November 12, 2020',\n",
       "  'release_year': '2008',\n",
       "  'rating': 'TV-G',\n",
       "  'duration': '107 min',\n",
       "  'listed_in': 'International Movies, Romantic Movies',\n",
       "  'description': \"After landing a job working for her longtime crush, an optimistic woman realizes that the man of her dreams isn't exactly who she envisioned.\"},\n",
       " {'show_id': 's252',\n",
       "  'type': 'Movie',\n",
       "  'title': 'A Wednesday',\n",
       "  'director': 'Neeraj Pandey',\n",
       "  'cast': 'Anupam Kher, Naseeruddin Shah, Jimmy Shergill, Deepal Shaw, Aamir Bashir, Kali Prasad Mukherjee, Vijay Bhatia, Chetan Pandit',\n",
       "  'country': 'India',\n",
       "  'date_added': 'November 1, 2018',\n",
       "  'release_year': '2008',\n",
       "  'rating': 'TV-MA',\n",
       "  'duration': '103 min',\n",
       "  'listed_in': 'Action & Adventure, Dramas, International Movies',\n",
       "  'description': 'After receiving an anonymous tip about a bomb, a police commissioner must negotiate with the terrorist, who demands the release of four militants.'},\n",
       " {'show_id': 's270',\n",
       "  'type': 'Movie',\n",
       "  'title': 'Aamir',\n",
       "  'director': 'Raj Kumar Gupta',\n",
       "  'cast': 'Rajeev Khandelwal, Gajraj Rao, Shashanka Ghosh, Jhilmil Hazrika, Gazala Amin, Allauddin Khan',\n",
       "  'country': 'India',\n",
       "  'date_added': 'November 1, 2018',\n",
       "  'release_year': '2008',\n",
       "  'rating': 'TV-14',\n",
       "  'duration': '95 min',\n",
       "  'listed_in': 'International Movies, Thrillers',\n",
       "  'description': \"In this high-tension thriller, an anonymous caller on a cell phone threatens to harm a man's family if he doesn't carry out every order.\"},\n",
       " {'show_id': 's332',\n",
       "  'type': 'Movie',\n",
       "  'title': 'Afterschool',\n",
       "  'director': 'Antonio Campos',\n",
       "  'cast': 'Ezra Miller, Addison Timlin, Jeremy Allen White, Michael Stuhlbarg, Emory Cohen, David Costabile, Rosemarie DeWitt, Dariusz M. Uczkowski, Gary Wilmes, Paul Sparks, Alexandra Neil, Lee Wilkof',\n",
       "  'country': 'United States',\n",
       "  'date_added': 'August 13, 2020',\n",
       "  'release_year': '2008',\n",
       "  'rating': 'TV-MA',\n",
       "  'duration': '107 min',\n",
       "  'listed_in': 'Dramas, Independent Movies',\n",
       "  'description': 'When a prep school loner films two classmates overdosing on cocaine, his footage plays a role in the emotional fallout within the school community.'},\n",
       " {'show_id': 's507',\n",
       "  'type': 'Movie',\n",
       "  'title': 'Andaleeb El Dokki',\n",
       "  'director': 'Wael Ehsan',\n",
       "  'cast': 'Mohamed Henedi, Heba Nour, Dawood Hussain, Amr Abdel-Geleel, Mohammed El Sadaany, Mohamed Sherif Hassan',\n",
       "  'country': 'Egypt',\n",
       "  'date_added': 'June 2, 2020',\n",
       "  'release_year': '2008',\n",
       "  'rating': 'TV-14',\n",
       "  'duration': '106 min',\n",
       "  'listed_in': 'Comedies, International Movies',\n",
       "  'description': \"Aiming for fame, a struggling singer finds his long-lost millionaire twin and falls for his brother's secretary as a plot brews to steal the fortune.\"},\n",
       " {'show_id': 's797',\n",
       "  'type': 'Movie',\n",
       "  'title': 'Because of Soccer',\n",
       "  'director': 'Agasyah Karim, Khalid Kashogi',\n",
       "  'cast': 'Herjunot Ali, Winky Wiryawan, Erly Ashy, Laura Basuki, Tarzan, Aida Nurmala, Otto Djauhari, Indra Herlambang',\n",
       "  'country': 'Indonesia',\n",
       "  'date_added': 'December 8, 2018',\n",
       "  'release_year': '2008',\n",
       "  'rating': 'TV-14',\n",
       "  'duration': '75 min',\n",
       "  'listed_in': 'Comedies, Dramas, International Movies',\n",
       "  'description': 'After losing a World Cup bet, two hapless buddies must use their wits to pay off their debt to a big Jakarta bookie in this action-packed comedy.'}]"
      ]
     },
     "execution_count": 39,
     "metadata": {},
     "output_type": "execute_result"
    }
   ],
   "source": [
    "movies.take(10)"
   ]
  },
  {
   "cell_type": "code",
   "execution_count": null,
   "id": "b7f0aba9",
   "metadata": {},
   "outputs": [],
   "source": []
  },
  {
   "cell_type": "markdown",
   "id": "d73e1b6e",
   "metadata": {},
   "source": [
    "# List all the movies whose duration is greater than 100 mins ?"
   ]
  },
  {
   "cell_type": "code",
   "execution_count": 18,
   "id": "ff1c27ae",
   "metadata": {},
   "outputs": [],
   "source": [
    "pairs = data.map(lambda x: (int(x['duration'].split(\" \")[0]), x['title']))"
   ]
  },
  {
   "cell_type": "code",
   "execution_count": 38,
   "id": "6e95f05e",
   "metadata": {},
   "outputs": [
    {
     "data": {
      "text/plain": [
       "[(4, '3%'),\n",
       " (93, '7:19'),\n",
       " (78, '23:59'),\n",
       " (80, '9'),\n",
       " (123, '21'),\n",
       " (1, '46'),\n",
       " (95, '122'),\n",
       " (119, '187'),\n",
       " (118, '706'),\n",
       " (143, '1920')]"
      ]
     },
     "execution_count": 38,
     "metadata": {},
     "output_type": "execute_result"
    }
   ],
   "source": [
    "pairs.take(10)"
   ]
  },
  {
   "cell_type": "code",
   "execution_count": 20,
   "id": "774b0fbf",
   "metadata": {},
   "outputs": [],
   "source": [
    "duration_above_hundred= pairs.filter(lambda x: x[0] >100)"
   ]
  },
  {
   "cell_type": "code",
   "execution_count": 37,
   "id": "1f4a8230",
   "metadata": {},
   "outputs": [
    {
     "data": {
      "text/plain": [
       "['21',\n",
       " '187',\n",
       " '706',\n",
       " '1920',\n",
       " '1922',\n",
       " 'Oct-01',\n",
       " '22-Jul',\n",
       " '15-Aug',\n",
       " '\\u200b\\u200bKuch Bheege Alfaaz',\n",
       " '\\u200bGoli Soda 2']"
      ]
     },
     "execution_count": 37,
     "metadata": {},
     "output_type": "execute_result"
    }
   ],
   "source": [
    "duration_above_hundred.take(10)"
   ]
  },
  {
   "cell_type": "code",
   "execution_count": 22,
   "id": "a23a5b31",
   "metadata": {},
   "outputs": [
    {
     "data": {
      "text/plain": [
       "2430"
      ]
     },
     "execution_count": 22,
     "metadata": {},
     "output_type": "execute_result"
    }
   ],
   "source": [
    "duration_above_hundred.count()"
   ]
  },
  {
   "cell_type": "code",
   "execution_count": 23,
   "id": "d2ad77ec",
   "metadata": {},
   "outputs": [],
   "source": [
    "duration_above_hundred=duration_above_hundred.map(lambda x: x[1])"
   ]
  },
  {
   "cell_type": "code",
   "execution_count": 36,
   "id": "16423ce6",
   "metadata": {},
   "outputs": [
    {
     "data": {
      "text/plain": [
       "['21',\n",
       " '187',\n",
       " '706',\n",
       " '1920',\n",
       " '1922',\n",
       " 'Oct-01',\n",
       " '22-Jul',\n",
       " '15-Aug',\n",
       " '\\u200b\\u200bKuch Bheege Alfaaz',\n",
       " '\\u200bGoli Soda 2']"
      ]
     },
     "execution_count": 36,
     "metadata": {},
     "output_type": "execute_result"
    }
   ],
   "source": [
    "duration_above_hundred.take(10)"
   ]
  },
  {
   "cell_type": "code",
   "execution_count": null,
   "id": "f2a226bf",
   "metadata": {},
   "outputs": [],
   "source": []
  },
  {
   "cell_type": "markdown",
   "id": "0aff4f1d",
   "metadata": {},
   "source": [
    "# List movies played by “Kareena Kapoor” ?"
   ]
  },
  {
   "cell_type": "code",
   "execution_count": 25,
   "id": "1451fe08",
   "metadata": {},
   "outputs": [],
   "source": [
    "kareena = data.map(lambda x: (x['cast'].split(\",\")[0], x['title']))"
   ]
  },
  {
   "cell_type": "code",
   "execution_count": 35,
   "id": "f523510c",
   "metadata": {},
   "outputs": [
    {
     "data": {
      "text/plain": [
       "[('João Miguel', '3%'),\n",
       " ('Demián Bichir', '7:19'),\n",
       " ('Tedd Chan', '23:59'),\n",
       " ('Elijah Wood', '9'),\n",
       " ('Jim Sturgess', '21'),\n",
       " ('Erdal Beşikçioğlu', '46'),\n",
       " ('Amina Khalil', '122'),\n",
       " ('Samuel L. Jackson', '187'),\n",
       " ('Divya Dutta', '706'),\n",
       " ('Rajneesh Duggal', '1920')]"
      ]
     },
     "execution_count": 35,
     "metadata": {},
     "output_type": "execute_result"
    }
   ],
   "source": [
    "kareena.take(10)"
   ]
  },
  {
   "cell_type": "code",
   "execution_count": 27,
   "id": "b10d5f07",
   "metadata": {},
   "outputs": [],
   "source": [
    "kareena1=[]\n",
    "kareenaa= kareena.groupByKey()\n",
    "for t in kareenaa.collect():\n",
    "    kareena1.append((t[0],[i for i in t[1]]))"
   ]
  },
  {
   "cell_type": "code",
   "execution_count": 29,
   "id": "59965643",
   "metadata": {},
   "outputs": [],
   "source": [
    "movie_list_by_kareena_kapoor=sc.parallelize(kareena1)"
   ]
  },
  {
   "cell_type": "code",
   "execution_count": 30,
   "id": "6d1404af",
   "metadata": {},
   "outputs": [],
   "source": [
    "movie_list_by_kareena_kapoor= movie_list_by_kareena_kapoor.filter(lambda x: x[0]!='')"
   ]
  },
  {
   "cell_type": "code",
   "execution_count": 34,
   "id": "570a5f0b",
   "metadata": {},
   "outputs": [
    {
     "data": {
      "text/plain": [
       "[('Tedd Chan', ['23:59']),\n",
       " ('Jim Sturgess', ['21', 'Kidnapping Mr. Heineken']),\n",
       " ('Amina Khalil', ['122']),\n",
       " ('Omar Epps', ['3022']),\n",
       " ('Sadiq Daba', ['Oct-01']),\n",
       " ('Anders Danielsen Lie', ['22-Jul']),\n",
       " ('Rahul Pethe', ['15-Aug']),\n",
       " ('Soumitra Chatterjee', ['\\u200bMayurakshi', 'Peace Haven']),\n",
       " ('Yoo Ah-in', ['#Alive', 'Burning', 'Chicago Typewriter']),\n",
       " ('Helen Mirren',\n",
       "  ['#AnneFrank - Parallel Stories',\n",
       "   \"Legend of the Guardians: The Owls of Ga'Hoole\",\n",
       "   'The Hundred-Foot Journey',\n",
       "   'Winchester'])]"
      ]
     },
     "execution_count": 34,
     "metadata": {},
     "output_type": "execute_result"
    }
   ],
   "source": [
    "movie_list_by_kareena_kapoor.take(10)"
   ]
  },
  {
   "cell_type": "code",
   "execution_count": 32,
   "id": "399504df",
   "metadata": {},
   "outputs": [
    {
     "data": {
      "text/plain": [
       "[['Chameli', 'Ek Main Aur Ekk Tu', 'Heroine', 'Kurbaan', 'Satyagraha']]"
      ]
     },
     "execution_count": 32,
     "metadata": {},
     "output_type": "execute_result"
    }
   ],
   "source": [
    "movie_list_by_kareena_kapoor.lookup(\"Kareena Kapoor\")"
   ]
  },
  {
   "cell_type": "code",
   "execution_count": null,
   "id": "050300b4",
   "metadata": {},
   "outputs": [],
   "source": []
  }
 ],
 "metadata": {
  "kernelspec": {
   "display_name": "Python 3",
   "language": "python",
   "name": "python3"
  },
  "language_info": {
   "codemirror_mode": {
    "name": "ipython",
    "version": 3
   },
   "file_extension": ".py",
   "mimetype": "text/x-python",
   "name": "python",
   "nbconvert_exporter": "python",
   "pygments_lexer": "ipython3",
   "version": "3.8.5"
  }
 },
 "nbformat": 4,
 "nbformat_minor": 5
}
