{
 "cells": [
  {
   "cell_type": "code",
   "execution_count": 1,
   "id": "c8c4f8e8",
   "metadata": {},
   "outputs": [],
   "source": [
    "import findspark\n",
    "findspark.init()"
   ]
  },
  {
   "cell_type": "code",
   "execution_count": 2,
   "id": "80a4900e",
   "metadata": {},
   "outputs": [],
   "source": [
    "from pyspark import SparkContext\n",
    "sc=SparkContext()"
   ]
  },
  {
   "cell_type": "code",
   "execution_count": 3,
   "id": "1a10df27",
   "metadata": {},
   "outputs": [],
   "source": [
    "import json"
   ]
  },
  {
   "cell_type": "code",
   "execution_count": 4,
   "id": "1ba3b2f2",
   "metadata": {},
   "outputs": [],
   "source": [
    "rdd=sc.textFile(\"/home/deepika/Downloads/netflix_titles.json\")"
   ]
  },
  {
   "cell_type": "code",
   "execution_count": 5,
   "id": "179862e2",
   "metadata": {},
   "outputs": [
    {
     "data": {
      "text/plain": [
       "/home/deepika/Downloads/netflix_titles.json MapPartitionsRDD[1] at textFile at NativeMethodAccessorImpl.java:0"
      ]
     },
     "execution_count": 5,
     "metadata": {},
     "output_type": "execute_result"
    }
   ],
   "source": [
    "from pyspark.storagelevel import StorageLevel\n",
    "rdd.persist(StorageLevel.MEMORY_ONLY)"
   ]
  },
  {
   "cell_type": "code",
   "execution_count": 6,
   "id": "80201a78",
   "metadata": {},
   "outputs": [],
   "source": [
    "data= rdd.map(lambda x: json.loads(x))"
   ]
  },
  {
   "cell_type": "code",
   "execution_count": 7,
   "id": "2fb5eab5",
   "metadata": {},
   "outputs": [
    {
     "data": {
      "text/plain": [
       "[{'show_id': 's1',\n",
       "  'type': 'TV Show',\n",
       "  'title': '3%',\n",
       "  'director': '',\n",
       "  'cast': 'João Miguel, Bianca Comparato, Michel Gomes, Rodolfo Valente, Vaneza Oliveira, Rafael Lozano, Viviane Porto, Mel Fronckowiak, Sergio Mamberti, Zezé Motta, Celso Frateschi',\n",
       "  'country': 'Brazil',\n",
       "  'date_added': 'August 14, 2020',\n",
       "  'release_year': '2020',\n",
       "  'rating': 'TV-MA',\n",
       "  'duration': '4 Seasons',\n",
       "  'listed_in': 'International TV Shows, TV Dramas, TV Sci-Fi & Fantasy',\n",
       "  'description': 'In a future where the elite inhabit an island paradise far from the crowded slums, you get one chance to join the 3% saved from squalor.'}]"
      ]
     },
     "execution_count": 7,
     "metadata": {},
     "output_type": "execute_result"
    }
   ],
   "source": [
    "data.take(1)"
   ]
  },
  {
   "cell_type": "code",
   "execution_count": null,
   "id": "42b6520d",
   "metadata": {},
   "outputs": [],
   "source": []
  },
  {
   "cell_type": "markdown",
   "id": "b1137c8d",
   "metadata": {},
   "source": [
    "\n",
    "# how many titles actor/actress appeared in?"
   ]
  },
  {
   "cell_type": "code",
   "execution_count": 8,
   "id": "516bffd3",
   "metadata": {},
   "outputs": [],
   "source": [
    "titles= data.flatMap(lambda x: (x['cast'].split(\",\")))"
   ]
  },
  {
   "cell_type": "code",
   "execution_count": 9,
   "id": "3dc94c0f",
   "metadata": {},
   "outputs": [],
   "source": [
    "gap=titles.filter(lambda x: x !='')"
   ]
  },
  {
   "cell_type": "code",
   "execution_count": 11,
   "id": "cd33389b",
   "metadata": {},
   "outputs": [],
   "source": [
    "result= gap.map(lambda x: (x,1)).reduceByKey(lambda x,y: x+y)"
   ]
  },
  {
   "cell_type": "code",
   "execution_count": 40,
   "id": "dcce7d8d",
   "metadata": {},
   "outputs": [
    {
     "data": {
      "text/plain": [
       "[(' Vaneza Oliveira', 1),\n",
       " (' Viviane Porto', 1),\n",
       " (' Mel Fronckowiak', 1),\n",
       " (' Celso Frateschi', 1),\n",
       " (' Héctor Bonilla', 1),\n",
       " (' Octavio Michel', 1),\n",
       " (' Carmen Beato', 3),\n",
       " ('Tedd Chan', 1),\n",
       " (' Henley Hii', 5),\n",
       " (' Lawrence Koh', 1)]"
      ]
     },
     "execution_count": 40,
     "metadata": {},
     "output_type": "execute_result"
    }
   ],
   "source": [
    "result.collect()"
   ]
  },
  {
   "cell_type": "code",
   "execution_count": 13,
   "id": "9afb6ceb",
   "metadata": {},
   "outputs": [],
   "source": [
    "import os\n",
    "os.environ[\"PYTHONHASHSEED\"]=str(232)"
   ]
  },
  {
   "cell_type": "code",
   "execution_count": 14,
   "id": "99327c81",
   "metadata": {},
   "outputs": [
    {
     "data": {
      "text/plain": [
       "[]"
      ]
     },
     "execution_count": 14,
     "metadata": {},
     "output_type": "execute_result"
    }
   ],
   "source": [
    "result.lookup(' Héctor Bonilla')"
   ]
  },
  {
   "cell_type": "code",
   "execution_count": null,
   "id": "77e1d606",
   "metadata": {},
   "outputs": [],
   "source": []
  },
  {
   "cell_type": "markdown",
   "id": "c0139045",
   "metadata": {},
   "source": [
    "# How many movies were released in 2008?"
   ]
  },
  {
   "cell_type": "code",
   "execution_count": 15,
   "id": "8b7ce73c",
   "metadata": {},
   "outputs": [],
   "source": [
    "movies=data.filter(lambda x:x['release_year']=='2008')"
   ]
  },
  {
   "cell_type": "code",
   "execution_count": 16,
   "id": "9ba1f354",
   "metadata": {},
   "outputs": [
    {
     "data": {
      "text/plain": [
       "125"
      ]
     },
     "execution_count": 16,
     "metadata": {},
     "output_type": "execute_result"
    }
   ],
   "source": [
    "movies.count()"
   ]
  },
  {
   "cell_type": "code",
   "execution_count": 42,
   "id": "9aa45c8b",
   "metadata": {},
   "outputs": [
    {
     "data": {
      "text/plain": [
       "[{'show_id': 's5',\n",
       "  'type': 'Movie',\n",
       "  'title': '21',\n",
       "  'director': 'Robert Luketic',\n",
       "  'cast': 'Jim Sturgess, Kevin Spacey, Kate Bosworth, Aaron Yoo, Liza Lapira, Jacob Pitts, Laurence Fishburne, Jack McGee, Josh Gad, Sam Golzari, Helen Carey, Jack Gilpin',\n",
       "  'country': 'United States',\n",
       "  'date_added': 'January 1, 2020',\n",
       "  'release_year': '2008',\n",
       "  'rating': 'PG-13',\n",
       "  'duration': '123 min',\n",
       "  'listed_in': 'Dramas',\n",
       "  'description': 'A brilliant group of students become card-counting experts with the intent of swindling millions out of Las Vegas casinos by playing blackjack.'},\n",
       " {'show_id': 's10',\n",
       "  'type': 'Movie',\n",
       "  'title': '1920',\n",
       "  'director': 'Vikram Bhatt',\n",
       "  'cast': 'Rajneesh Duggal, Adah Sharma, Indraneil Sengupta, Anjori Alagh, Rajendranath Zutshi, Vipin Sharma, Amin Hajee, Shri Vallabh Vyas',\n",
       "  'country': 'India',\n",
       "  'date_added': 'December 15, 2017',\n",
       "  'release_year': '2008',\n",
       "  'rating': 'TV-MA',\n",
       "  'duration': '143 min',\n",
       "  'listed_in': 'Horror Movies, International Movies, Thrillers',\n",
       "  'description': 'An architect and his wife move into a castle that is slated to become a luxury hotel. But something inside is determined to stop the renovation.'}]"
      ]
     },
     "execution_count": 42,
     "metadata": {},
     "output_type": "execute_result"
    }
   ],
   "source": [
    "movies.collect()"
   ]
  },
  {
   "cell_type": "code",
   "execution_count": null,
   "id": "8ecc7f50",
   "metadata": {},
   "outputs": [],
   "source": []
  },
  {
   "cell_type": "markdown",
   "id": "5b531de9",
   "metadata": {},
   "source": [
    "# List all the movies whose duration is greater than 100 mins ?"
   ]
  },
  {
   "cell_type": "code",
   "execution_count": 18,
   "id": "04083b69",
   "metadata": {},
   "outputs": [],
   "source": [
    "pairs = data.map(lambda x: (int(x['duration'].split(\" \")[0]), x['title']))"
   ]
  },
  {
   "cell_type": "code",
   "execution_count": 38,
   "id": "bac8aaa6",
   "metadata": {},
   "outputs": [
    {
     "data": {
      "text/plain": [
       "[(4, '3%'),\n",
       " (93, '7:19'),\n",
       " (78, '23:59'),\n",
       " (80, '9'),\n",
       " (123, '21'),\n",
       " (1, '46'),\n",
       " (95, '122'),\n",
       " (119, '187'),\n",
       " (118, '706'),\n",
       " (143, '1920')]"
      ]
     },
     "execution_count": 38,
     "metadata": {},
     "output_type": "execute_result"
    }
   ],
   "source": [
    "pairs.collect()"
   ]
  },
  {
   "cell_type": "code",
   "execution_count": 20,
   "id": "a978f4fb",
   "metadata": {},
   "outputs": [],
   "source": [
    "duration_above_hundred= pairs.filter(lambda x: x[0] >100)"
   ]
  },
  {
   "cell_type": "code",
   "execution_count": 37,
   "id": "060cfe37",
   "metadata": {},
   "outputs": [
    {
     "data": {
      "text/plain": [
       "['21',\n",
       " '187',\n",
       " '706',\n",
       " '1920',\n",
       " '1922',\n",
       " 'Oct-01',\n",
       " '22-Jul',\n",
       " '15-Aug',\n",
       " '\\u200b\\u200bKuch Bheege Alfaaz',\n",
       " '\\u200bGoli Soda 2']"
      ]
     },
     "execution_count": 37,
     "metadata": {},
     "output_type": "execute_result"
    }
   ],
   "source": [
    "duration_above_hundred.take(10)"
   ]
  },
  {
   "cell_type": "code",
   "execution_count": 22,
   "id": "fd51f821",
   "metadata": {},
   "outputs": [
    {
     "data": {
      "text/plain": [
       "2430"
      ]
     },
     "execution_count": 22,
     "metadata": {},
     "output_type": "execute_result"
    }
   ],
   "source": [
    "duration_above_hundred.count()"
   ]
  },
  {
   "cell_type": "code",
   "execution_count": 23,
   "id": "312acb3c",
   "metadata": {},
   "outputs": [],
   "source": [
    "duration_above_hundred=duration_above_hundred.map(lambda x: x[1])"
   ]
  },
  {
   "cell_type": "code",
   "execution_count": 36,
   "id": "90a5ad88",
   "metadata": {},
   "outputs": [
    {
     "data": {
      "text/plain": [
       "['21',\n",
       " '187',\n",
       " '706',\n",
       " '1920',\n",
       " '1922',\n",
       " 'Oct-01',\n",
       " '22-Jul',\n",
       " '15-Aug',\n",
       " '\\u200b\\u200bKuch Bheege Alfaaz',\n",
       " '\\u200bGoli Soda 2']"
      ]
     },
     "execution_count": 36,
     "metadata": {},
     "output_type": "execute_result"
    }
   ],
   "source": [
    "duration_above_hundred.collect()"
   ]
  },
  {
   "cell_type": "code",
   "execution_count": null,
   "id": "a3311982",
   "metadata": {},
   "outputs": [],
   "source": []
  },
  {
   "cell_type": "markdown",
   "id": "7576862f",
   "metadata": {},
   "source": [
    "# List movies played by “Kareena Kapoor” ?"
   ]
  },
  {
   "cell_type": "code",
   "execution_count": 25,
   "id": "5c9ba39a",
   "metadata": {},
   "outputs": [],
   "source": [
    "kareena = data.map(lambda x: (x['cast'].split(\",\")[0], x['title']))"
   ]
  },
  {
   "cell_type": "code",
   "execution_count": 35,
   "id": "77802844",
   "metadata": {},
   "outputs": [
    {
     "data": {
      "text/plain": [
       "[('João Miguel', '3%'),\n",
       " ('Demián Bichir', '7:19'),\n",
       " ('Tedd Chan', '23:59'),\n",
       " ('Elijah Wood', '9'),\n",
       " ('Jim Sturgess', '21'),\n",
       " ('Erdal Beşikçioğlu', '46'),\n",
       " ('Amina Khalil', '122'),\n",
       " ('Samuel L. Jackson', '187'),\n",
       " ('Divya Dutta', '706'),\n",
       " ('Rajneesh Duggal', '1920')]"
      ]
     },
     "execution_count": 35,
     "metadata": {},
     "output_type": "execute_result"
    }
   ],
   "source": [
    "kareena.collect()"
   ]
  },
  {
   "cell_type": "code",
   "execution_count": 27,
   "id": "f6b5b69c",
   "metadata": {},
   "outputs": [],
   "source": [
    "kareena1=[]\n",
    "kareenaa= kareena.groupByKey()\n",
    "for t in kareenaa.collect():\n",
    "    kareena1.append((t[0],[i for i in t[1]]))"
   ]
  },
  {
   "cell_type": "code",
   "execution_count": 29,
   "id": "e1d8d671",
   "metadata": {},
   "outputs": [],
   "source": [
    "movie_list_by_kareena_kapoor=sc.parallelize(kareena1)"
   ]
  },
  {
   "cell_type": "code",
   "execution_count": 30,
   "id": "8a374b62",
   "metadata": {},
   "outputs": [],
   "source": [
    "movie_list_by_kareena_kapoor= movie_list_by_kareena_kapoor.filter(lambda x: x[0]!='')"
   ]
  },
  {
   "cell_type": "code",
   "execution_count": 34,
   "id": "93dceadc",
   "metadata": {},
   "outputs": [
    {
     "data": {
      "text/plain": [
       "[('Tedd Chan', ['23:59']),\n",
       " ('Jim Sturgess', ['21', 'Kidnapping Mr. Heineken']),\n",
       " ('Amina Khalil', ['122']),\n",
       " ('Omar Epps', ['3022']),\n",
       " ('Sadiq Daba', ['Oct-01']),\n",
       " ('Anders Danielsen Lie', ['22-Jul']),\n",
       " ('Rahul Pethe', ['15-Aug']),\n",
       " ('Soumitra Chatterjee', ['\\u200bMayurakshi', 'Peace Haven']),\n",
       " ('Yoo Ah-in', ['#Alive', 'Burning', 'Chicago Typewriter']),\n",
       " ('Helen Mirren',\n",
       "  ['#AnneFrank - Parallel Stories',\n",
       "   \"Legend of the Guardians: The Owls of Ga'Hoole\",\n",
       "   'The Hundred-Foot Journey',\n",
       "   'Winchester'])]"
      ]
     },
     "execution_count": 34,
     "metadata": {},
     "output_type": "execute_result"
    }
   ],
   "source": [
    "movie_list_by_kareena_kapoor.collect()"
   ]
  },
  {
   "cell_type": "code",
   "execution_count": 32,
   "id": "1a15da74",
   "metadata": {},
   "outputs": [
    {
     "data": {
      "text/plain": [
       "[['Chameli', 'Ek Main Aur Ekk Tu', 'Heroine', 'Kurbaan', 'Satyagraha']]"
      ]
     },
     "execution_count": 32,
     "metadata": {},
     "output_type": "execute_result"
    }
   ],
   "source": [
    "movie_list_by_kareena_kapoor.lookup(\"Kareena Kapoor\")"
   ]
  },
  {
   "cell_type": "code",
   "execution_count": null,
   "id": "f15fb730",
   "metadata": {},
   "outputs": [],
   "source": []
  },
  {
   "cell_type": "code",
   "execution_count": 46,
   "id": "ee60876d",
   "metadata": {},
   "outputs": [],
   "source": [
    "movie_list_by_kareena_kapoor.saveAsTextFile(\"/home/deepika/my_project_dir/my_project_env/movie_list_by_kareena_kapoor/\")"
   ]
  },
  {
   "cell_type": "code",
   "execution_count": 47,
   "id": "60928605",
   "metadata": {},
   "outputs": [],
   "source": [
    "duration_above_hundred.saveAsTextFile(\"/home/deepika/my_project_dir/my_project_env/duration_above_hundred/\")"
   ]
  },
  {
   "cell_type": "code",
   "execution_count": 48,
   "id": "993c9f39",
   "metadata": {},
   "outputs": [],
   "source": [
    "movies.saveAsTextFile(\"/home/deepika/my_project_dir/my_project_env/movies_in_2008/\")"
   ]
  },
  {
   "cell_type": "code",
   "execution_count": 49,
   "id": "89c7e374",
   "metadata": {},
   "outputs": [],
   "source": [
    "result.saveAsTextFile(\"/home/deepika/my_project_dir/my_project_env/titles_actor_actress_appeared/\")"
   ]
  },
  {
   "cell_type": "code",
   "execution_count": null,
   "id": "55755449",
   "metadata": {},
   "outputs": [],
   "source": []
  }
 ],
 "metadata": {
  "kernelspec": {
   "display_name": "Python 3",
   "language": "python",
   "name": "python3"
  },
  "language_info": {
   "codemirror_mode": {
    "name": "ipython",
    "version": 3
   },
   "file_extension": ".py",
   "mimetype": "text/x-python",
   "name": "python",
   "nbconvert_exporter": "python",
   "pygments_lexer": "ipython3",
   "version": "3.8.5"
  }
 },
 "nbformat": 4,
 "nbformat_minor": 5
}
