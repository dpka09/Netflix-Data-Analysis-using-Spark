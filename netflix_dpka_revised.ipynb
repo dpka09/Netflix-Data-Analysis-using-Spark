{
 "cells": [
  {
   "cell_type": "code",
   "execution_count": 1,
   "id": "c959302d",
   "metadata": {},
   "outputs": [],
   "source": [
    "import findspark\n",
    "findspark.init()"
   ]
  },
  {
   "cell_type": "code",
   "execution_count": 2,
   "id": "b209bcb1",
   "metadata": {},
   "outputs": [],
   "source": [
    "from pyspark import SparkContext\n",
    "sc=SparkContext()"
   ]
  },
  {
   "cell_type": "code",
   "execution_count": 3,
   "id": "fff98c05",
   "metadata": {},
   "outputs": [],
   "source": [
    "import json"
   ]
  },
  {
   "cell_type": "code",
   "execution_count": 4,
   "id": "27de5340",
   "metadata": {},
   "outputs": [],
   "source": [
    "rdd=sc.textFile(\"/home/deepika/Downloads/netflix_titles.json\")"
   ]
  },
  {
   "cell_type": "code",
   "execution_count": null,
   "id": "bbb3b7e4",
   "metadata": {},
   "outputs": [],
   "source": []
  },
  {
   "cell_type": "code",
   "execution_count": 5,
   "id": "1e0d48fd",
   "metadata": {},
   "outputs": [],
   "source": [
    "data= rdd.map(lambda x: json.loads(x))"
   ]
  },
  {
   "cell_type": "code",
   "execution_count": 6,
   "id": "aac0ee6f",
   "metadata": {},
   "outputs": [
    {
     "data": {
      "text/plain": [
       "PythonRDD[2] at RDD at PythonRDD.scala:53"
      ]
     },
     "execution_count": 6,
     "metadata": {},
     "output_type": "execute_result"
    }
   ],
   "source": [
    "from pyspark.storagelevel import StorageLevel\n",
    "data.persist(StorageLevel.MEMORY_ONLY)"
   ]
  },
  {
   "cell_type": "code",
   "execution_count": 7,
   "id": "d21c5eb9",
   "metadata": {},
   "outputs": [
    {
     "data": {
      "text/plain": [
       "[{'show_id': 's1',\n",
       "  'type': 'TV Show',\n",
       "  'title': '3%',\n",
       "  'director': '',\n",
       "  'cast': 'João Miguel, Bianca Comparato, Michel Gomes, Rodolfo Valente, Vaneza Oliveira, Rafael Lozano, Viviane Porto, Mel Fronckowiak, Sergio Mamberti, Zezé Motta, Celso Frateschi',\n",
       "  'country': 'Brazil',\n",
       "  'date_added': 'August 14, 2020',\n",
       "  'release_year': '2020',\n",
       "  'rating': 'TV-MA',\n",
       "  'duration': '4 Seasons',\n",
       "  'listed_in': 'International TV Shows, TV Dramas, TV Sci-Fi & Fantasy',\n",
       "  'description': 'In a future where the elite inhabit an island paradise far from the crowded slums, you get one chance to join the 3% saved from squalor.'}]"
      ]
     },
     "execution_count": 7,
     "metadata": {},
     "output_type": "execute_result"
    }
   ],
   "source": [
    "data.take(1)"
   ]
  },
  {
   "cell_type": "code",
   "execution_count": null,
   "id": "f6611d5a",
   "metadata": {},
   "outputs": [],
   "source": []
  },
  {
   "cell_type": "markdown",
   "id": "2a933954",
   "metadata": {},
   "source": [
    "\n",
    "# how many titles actor/actress appeared in?"
   ]
  },
  {
   "cell_type": "code",
   "execution_count": 8,
   "id": "bd579146",
   "metadata": {},
   "outputs": [],
   "source": [
    "titles= data.flatMap(lambda x: (x['cast'].split(\",\")))"
   ]
  },
  {
   "cell_type": "code",
   "execution_count": 9,
   "id": "4abc46b1",
   "metadata": {},
   "outputs": [],
   "source": [
    "gap=titles.filter(lambda x: x !='')"
   ]
  },
  {
   "cell_type": "code",
   "execution_count": 10,
   "id": "d929aa21",
   "metadata": {},
   "outputs": [],
   "source": [
    "result= gap.map(lambda x: (x,1)).reduceByKey(lambda x,y: x+y)"
   ]
  },
  {
   "cell_type": "code",
   "execution_count": 11,
   "id": "e7a954d8",
   "metadata": {},
   "outputs": [
    {
     "data": {
      "text/plain": [
       "[(' Vaneza Oliveira', 1),\n",
       " (' Viviane Porto', 1),\n",
       " (' Mel Fronckowiak', 1),\n",
       " (' Celso Frateschi', 1)]"
      ]
     },
     "execution_count": 11,
     "metadata": {},
     "output_type": "execute_result"
    }
   ],
   "source": [
    "result.take(4)"
   ]
  },
  {
   "cell_type": "code",
   "execution_count": 12,
   "id": "b0fdf0de",
   "metadata": {},
   "outputs": [],
   "source": [
    "import os\n",
    "os.environ[\"PYTHONHASHSEED\"]=str(232)"
   ]
  },
  {
   "cell_type": "code",
   "execution_count": 13,
   "id": "2123c0e1",
   "metadata": {},
   "outputs": [
    {
     "data": {
      "text/plain": [
       "[4]"
      ]
     },
     "execution_count": 13,
     "metadata": {},
     "output_type": "execute_result"
    }
   ],
   "source": [
    "result.lookup(' Jim Sturgess')"
   ]
  },
  {
   "cell_type": "code",
   "execution_count": null,
   "id": "d00c37c3",
   "metadata": {},
   "outputs": [],
   "source": []
  },
  {
   "cell_type": "markdown",
   "id": "9ac9af4c",
   "metadata": {},
   "source": [
    "# How many movies were released in 2008?"
   ]
  },
  {
   "cell_type": "code",
   "execution_count": 14,
   "id": "9519d7d3",
   "metadata": {},
   "outputs": [],
   "source": [
    "movies=data.filter(lambda x:x['release_year']=='2008')"
   ]
  },
  {
   "cell_type": "code",
   "execution_count": 15,
   "id": "fec7f141",
   "metadata": {},
   "outputs": [
    {
     "data": {
      "text/plain": [
       "125"
      ]
     },
     "execution_count": 15,
     "metadata": {},
     "output_type": "execute_result"
    }
   ],
   "source": [
    "movies.count()"
   ]
  },
  {
   "cell_type": "code",
   "execution_count": 16,
   "id": "e8676730",
   "metadata": {},
   "outputs": [
    {
     "data": {
      "text/plain": [
       "[{'show_id': 's5',\n",
       "  'type': 'Movie',\n",
       "  'title': '21',\n",
       "  'director': 'Robert Luketic',\n",
       "  'cast': 'Jim Sturgess, Kevin Spacey, Kate Bosworth, Aaron Yoo, Liza Lapira, Jacob Pitts, Laurence Fishburne, Jack McGee, Josh Gad, Sam Golzari, Helen Carey, Jack Gilpin',\n",
       "  'country': 'United States',\n",
       "  'date_added': 'January 1, 2020',\n",
       "  'release_year': '2008',\n",
       "  'rating': 'PG-13',\n",
       "  'duration': '123 min',\n",
       "  'listed_in': 'Dramas',\n",
       "  'description': 'A brilliant group of students become card-counting experts with the intent of swindling millions out of Las Vegas casinos by playing blackjack.'}]"
      ]
     },
     "execution_count": 16,
     "metadata": {},
     "output_type": "execute_result"
    }
   ],
   "source": [
    "movies.take(1)"
   ]
  },
  {
   "cell_type": "code",
   "execution_count": null,
   "id": "98be3452",
   "metadata": {},
   "outputs": [],
   "source": []
  },
  {
   "cell_type": "markdown",
   "id": "ff3c9b32",
   "metadata": {},
   "source": [
    "# List all the movies whose duration is greater than 100 mins ?"
   ]
  },
  {
   "cell_type": "code",
   "execution_count": 10,
   "id": "b7483afe",
   "metadata": {},
   "outputs": [],
   "source": [
    "pairs = data.map(lambda x: (int(x['duration'].split(\" \")[0]), x['title']))"
   ]
  },
  {
   "cell_type": "code",
   "execution_count": 11,
   "id": "03d2734c",
   "metadata": {},
   "outputs": [
    {
     "data": {
      "text/plain": [
       "[(4, '3%'), (93, '7:19')]"
      ]
     },
     "execution_count": 11,
     "metadata": {},
     "output_type": "execute_result"
    }
   ],
   "source": [
    "pairs.take(2)"
   ]
  },
  {
   "cell_type": "code",
   "execution_count": 45,
   "id": "f7c3acdc",
   "metadata": {},
   "outputs": [],
   "source": [
    "duration_above_hundred= pairs.filter(lambda x: x[0] >100 and x[0]!='').map(lambda x:x[1])"
   ]
  },
  {
   "cell_type": "code",
   "execution_count": 47,
   "id": "2626290d",
   "metadata": {},
   "outputs": [
    {
     "data": {
      "text/plain": [
       "['21', '187', '706', '1920', '1922']"
      ]
     },
     "execution_count": 47,
     "metadata": {},
     "output_type": "execute_result"
    }
   ],
   "source": [
    "duration_above_hundred.take(5)"
   ]
  },
  {
   "cell_type": "code",
   "execution_count": null,
   "id": "9e31c563",
   "metadata": {},
   "outputs": [],
   "source": []
  },
  {
   "cell_type": "markdown",
   "id": "ff34d6a1",
   "metadata": {},
   "source": [
    "# List movies played by “Kareena Kapoor” ?"
   ]
  },
  {
   "cell_type": "code",
   "execution_count": 22,
   "id": "beb7da0b",
   "metadata": {},
   "outputs": [],
   "source": [
    "#Using Groupby"
   ]
  },
  {
   "cell_type": "code",
   "execution_count": 56,
   "id": "a8cd239b",
   "metadata": {},
   "outputs": [],
   "source": [
    "kareena = data.map(lambda x: (x['cast'].split(\",\")[0], x['title']))"
   ]
  },
  {
   "cell_type": "code",
   "execution_count": 57,
   "id": "2ef0f644",
   "metadata": {},
   "outputs": [
    {
     "data": {
      "text/plain": [
       "[('João Miguel', '3%'),\n",
       " ('Demián Bichir', '7:19'),\n",
       " ('Tedd Chan', '23:59'),\n",
       " ('Elijah Wood', '9'),\n",
       " ('Jim Sturgess', '21')]"
      ]
     },
     "execution_count": 57,
     "metadata": {},
     "output_type": "execute_result"
    }
   ],
   "source": [
    "kareena.take(5)"
   ]
  },
  {
   "cell_type": "code",
   "execution_count": 58,
   "id": "14146b43",
   "metadata": {},
   "outputs": [
    {
     "data": {
      "text/plain": [
       "[('Tedd Chan', ['23:59']),\n",
       " ('Jim Sturgess', ['21', 'Kidnapping Mr. Heineken']),\n",
       " ('Amina Khalil', ['122']),\n",
       " ('Omar Epps', ['3022']),\n",
       " ('Sadiq Daba', ['Oct-01'])]"
      ]
     },
     "execution_count": 58,
     "metadata": {},
     "output_type": "execute_result"
    }
   ],
   "source": [
    "kareena.groupByKey().mapValues(list).filter(lambda x: x[0]!='').take(5)"
   ]
  },
  {
   "cell_type": "code",
   "execution_count": 60,
   "id": "bdce82a9",
   "metadata": {},
   "outputs": [],
   "source": [
    "movie_list_by_kareena_kapoor=kareena.lookup(\"Kareena Kapoor\")"
   ]
  },
  {
   "cell_type": "code",
   "execution_count": 61,
   "id": "9c6b6f2e",
   "metadata": {},
   "outputs": [
    {
     "data": {
      "text/plain": [
       "['Chameli', 'Ek Main Aur Ekk Tu', 'Heroine', 'Kurbaan', 'Satyagraha']"
      ]
     },
     "execution_count": 61,
     "metadata": {},
     "output_type": "execute_result"
    }
   ],
   "source": [
    "movie_list_by_kareena_kapoor"
   ]
  },
  {
   "cell_type": "code",
   "execution_count": null,
   "id": "88e00bec",
   "metadata": {},
   "outputs": [],
   "source": []
  },
  {
   "cell_type": "code",
   "execution_count": null,
   "id": "c5bc13ab",
   "metadata": {},
   "outputs": [],
   "source": [
    "#Without using Groupby"
   ]
  },
  {
   "cell_type": "code",
   "execution_count": 49,
   "id": "6793e673",
   "metadata": {},
   "outputs": [],
   "source": [
    "kareena = data.map(lambda x: (x['cast'].split(\",\"),x['title']))"
   ]
  },
  {
   "cell_type": "code",
   "execution_count": 53,
   "id": "6a918cd6",
   "metadata": {},
   "outputs": [],
   "source": [
    "kareena = kareena.filter(lambda x: (\"Kareena Kapoor\" in x[0]))"
   ]
  },
  {
   "cell_type": "code",
   "execution_count": 54,
   "id": "b2887454",
   "metadata": {},
   "outputs": [],
   "source": [
    "kareena_movies_list = kareena.map(lambda x: x[1])"
   ]
  },
  {
   "cell_type": "code",
   "execution_count": 55,
   "id": "0956596c",
   "metadata": {},
   "outputs": [
    {
     "data": {
      "text/plain": [
       "['Chameli', 'Ek Main Aur Ekk Tu', 'Heroine', 'Kurbaan', 'Satyagraha']"
      ]
     },
     "execution_count": 55,
     "metadata": {},
     "output_type": "execute_result"
    }
   ],
   "source": [
    "kareena_movies_list.collect()   "
   ]
  },
  {
   "cell_type": "code",
   "execution_count": null,
   "id": "5b3bdfb6",
   "metadata": {},
   "outputs": [],
   "source": []
  },
  {
   "cell_type": "code",
   "execution_count": null,
   "id": "5108edc1",
   "metadata": {},
   "outputs": [],
   "source": []
  },
  {
   "cell_type": "code",
   "execution_count": null,
   "id": "e024940f",
   "metadata": {},
   "outputs": [],
   "source": []
  },
  {
   "cell_type": "code",
   "execution_count": null,
   "id": "1622bf3a",
   "metadata": {},
   "outputs": [],
   "source": []
  },
  {
   "cell_type": "code",
   "execution_count": 30,
   "id": "b9d4e826",
   "metadata": {},
   "outputs": [],
   "source": [
    "movie_list_by_kareena_kapoor.saveAsTextFile(\"/home/deepika/my_project_dir/my_project_env/movie_list_by_kareena_kapoor/\")"
   ]
  },
  {
   "cell_type": "code",
   "execution_count": null,
   "id": "34f26276",
   "metadata": {},
   "outputs": [],
   "source": [
    "duration_above_hundred.saveAsTextFile(\"/home/deepika/my_project_dir/my_project_env/duration_above_hundred/\")"
   ]
  },
  {
   "cell_type": "code",
   "execution_count": null,
   "id": "872acf44",
   "metadata": {},
   "outputs": [],
   "source": [
    "movies.saveAsTextFile(\"/home/deepika/my_project_dir/my_project_env/movies_in_2008/\")"
   ]
  },
  {
   "cell_type": "code",
   "execution_count": null,
   "id": "29f2db10",
   "metadata": {},
   "outputs": [],
   "source": [
    "result.saveAsTextFile(\"/home/deepika/my_project_dir/my_project_env/titles_actor_actress_appeared/\")"
   ]
  },
  {
   "cell_type": "code",
   "execution_count": null,
   "id": "2a0181b8",
   "metadata": {},
   "outputs": [],
   "source": []
  },
  {
   "cell_type": "code",
   "execution_count": null,
   "id": "f5706b94",
   "metadata": {},
   "outputs": [],
   "source": []
  }
 ],
 "metadata": {
  "kernelspec": {
   "display_name": "Python 3",
   "language": "python",
   "name": "python3"
  },
  "language_info": {
   "codemirror_mode": {
    "name": "ipython",
    "version": 3
   },
   "file_extension": ".py",
   "mimetype": "text/x-python",
   "name": "python",
   "nbconvert_exporter": "python",
   "pygments_lexer": "ipython3",
   "version": "3.8.5"
  }
 },
 "nbformat": 4,
 "nbformat_minor": 5
}
