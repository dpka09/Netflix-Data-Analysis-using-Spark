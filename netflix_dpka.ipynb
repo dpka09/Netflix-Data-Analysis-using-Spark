{
 "cells": [
  {
   "cell_type": "code",
   "execution_count": 1,
   "id": "09fe1d85",
   "metadata": {},
   "outputs": [],
   "source": [
    "import findspark\n",
    "findspark.init()"
   ]
  },
  {
   "cell_type": "code",
   "execution_count": 2,
   "id": "e87a5a37",
   "metadata": {},
   "outputs": [],
   "source": [
    "from pyspark import SparkContext\n",
    "sc=SparkContext()"
   ]
  },
  {
   "cell_type": "code",
   "execution_count": 3,
   "id": "ee79fbeb",
   "metadata": {},
   "outputs": [],
   "source": [
    "import json"
   ]
  },
  {
   "cell_type": "code",
   "execution_count": 4,
   "id": "785e5c78",
   "metadata": {},
   "outputs": [],
   "source": [
    "rdd=sc.textFile(\"/home/deepika/Downloads/netflix_titles.json\")"
   ]
  },
  {
   "cell_type": "code",
   "execution_count": 5,
   "id": "9c01237a",
   "metadata": {},
   "outputs": [
    {
     "data": {
      "text/plain": [
       "/home/deepika/Downloads/netflix_titles.json MapPartitionsRDD[1] at textFile at NativeMethodAccessorImpl.java:0"
      ]
     },
     "execution_count": 5,
     "metadata": {},
     "output_type": "execute_result"
    }
   ],
   "source": [
    "from pyspark.storagelevel import StorageLevel\n",
    "rdd.persist(StorageLevel.MEMORY_ONLY)"
   ]
  },
  {
   "cell_type": "code",
   "execution_count": 6,
   "id": "0e4258af",
   "metadata": {},
   "outputs": [],
   "source": [
    "data= rdd.map(lambda x: json.loads(x))"
   ]
  },
  {
   "cell_type": "code",
   "execution_count": 7,
   "id": "74b89d60",
   "metadata": {},
   "outputs": [
    {
     "data": {
      "text/plain": [
       "[{'show_id': 's1',\n",
       "  'type': 'TV Show',\n",
       "  'title': '3%',\n",
       "  'director': '',\n",
       "  'cast': 'João Miguel, Bianca Comparato, Michel Gomes, Rodolfo Valente, Vaneza Oliveira, Rafael Lozano, Viviane Porto, Mel Fronckowiak, Sergio Mamberti, Zezé Motta, Celso Frateschi',\n",
       "  'country': 'Brazil',\n",
       "  'date_added': 'August 14, 2020',\n",
       "  'release_year': '2020',\n",
       "  'rating': 'TV-MA',\n",
       "  'duration': '4 Seasons',\n",
       "  'listed_in': 'International TV Shows, TV Dramas, TV Sci-Fi & Fantasy',\n",
       "  'description': 'In a future where the elite inhabit an island paradise far from the crowded slums, you get one chance to join the 3% saved from squalor.'}]"
      ]
     },
     "execution_count": 7,
     "metadata": {},
     "output_type": "execute_result"
    }
   ],
   "source": [
    "data.take(1)"
   ]
  },
  {
   "cell_type": "code",
   "execution_count": null,
   "id": "7cd93f2c",
   "metadata": {},
   "outputs": [],
   "source": []
  },
  {
   "cell_type": "markdown",
   "id": "17123aa6",
   "metadata": {},
   "source": [
    "\n",
    "# how many titles actor/actress appeared in?"
   ]
  },
  {
   "cell_type": "code",
   "execution_count": 8,
   "id": "0cf56dc7",
   "metadata": {},
   "outputs": [],
   "source": [
    "titles= data.flatMap(lambda x: (x['cast'].split(\",\")))"
   ]
  },
  {
   "cell_type": "code",
   "execution_count": 9,
   "id": "8302cf24",
   "metadata": {},
   "outputs": [],
   "source": [
    "gap=titles.filter(lambda x: x !='')"
   ]
  },
  {
   "cell_type": "code",
   "execution_count": 41,
   "id": "9cdf91ab",
   "metadata": {},
   "outputs": [
    {
     "data": {
      "text/plain": [
       "['João Miguel',\n",
       " ' Bianca Comparato',\n",
       " ' Michel Gomes',\n",
       " ' Rodolfo Valente',\n",
       " ' Vaneza Oliveira',\n",
       " ' Rafael Lozano',\n",
       " ' Viviane Porto',\n",
       " ' Mel Fronckowiak',\n",
       " ' Sergio Mamberti',\n",
       " ' Zezé Motta']"
      ]
     },
     "execution_count": 41,
     "metadata": {},
     "output_type": "execute_result"
    }
   ],
   "source": [
    "gap.take(10)"
   ]
  },
  {
   "cell_type": "code",
   "execution_count": 11,
   "id": "a84947c5",
   "metadata": {},
   "outputs": [],
   "source": [
    "result= gap.map(lambda x: (x,1)).reduceByKey(lambda x,y: x+y)"
   ]
  },
  {
   "cell_type": "code",
   "execution_count": 40,
   "id": "65931874",
   "metadata": {},
   "outputs": [
    {
     "data": {
      "text/plain": [
       "[(' Vaneza Oliveira', 1),\n",
       " (' Viviane Porto', 1),\n",
       " (' Mel Fronckowiak', 1),\n",
       " (' Celso Frateschi', 1),\n",
       " (' Héctor Bonilla', 1),\n",
       " (' Octavio Michel', 1),\n",
       " (' Carmen Beato', 3),\n",
       " ('Tedd Chan', 1),\n",
       " (' Henley Hii', 5),\n",
       " (' Lawrence Koh', 1)]"
      ]
     },
     "execution_count": 40,
     "metadata": {},
     "output_type": "execute_result"
    }
   ],
   "source": [
    "result.take(10)"
   ]
  },
  {
   "cell_type": "code",
   "execution_count": 13,
   "id": "bf26752b",
   "metadata": {},
   "outputs": [],
   "source": [
    "import os\n",
    "os.environ[\"PYTHONHASHSEED\"]=str(232)"
   ]
  },
  {
   "cell_type": "code",
   "execution_count": 14,
   "id": "ef16ad18",
   "metadata": {},
   "outputs": [
    {
     "data": {
      "text/plain": [
       "[]"
      ]
     },
     "execution_count": 14,
     "metadata": {},
     "output_type": "execute_result"
    }
   ],
   "source": [
    "result.lookup(' Héctor Bonilla')"
   ]
  },
  {
   "cell_type": "code",
   "execution_count": null,
   "id": "f88e46e5",
   "metadata": {},
   "outputs": [],
   "source": []
  },
  {
   "cell_type": "markdown",
   "id": "1d96b5ed",
   "metadata": {},
   "source": [
    "# How many movies were released in 2008?"
   ]
  },
  {
   "cell_type": "code",
   "execution_count": 15,
   "id": "b279d3fb",
   "metadata": {},
   "outputs": [],
   "source": [
    "movies=data.filter(lambda x:x['release_year']=='2008')"
   ]
  },
  {
   "cell_type": "code",
   "execution_count": 16,
   "id": "a47b24fe",
   "metadata": {},
   "outputs": [
    {
     "data": {
      "text/plain": [
       "125"
      ]
     },
     "execution_count": 16,
     "metadata": {},
     "output_type": "execute_result"
    }
   ],
   "source": [
    "movies.count()"
   ]
  },
  {
   "cell_type": "code",
   "execution_count": 42,
   "id": "1b2788e6",
   "metadata": {},
   "outputs": [
    {
     "data": {
      "text/plain": [
       "[{'show_id': 's5',\n",
       "  'type': 'Movie',\n",
       "  'title': '21',\n",
       "  'director': 'Robert Luketic',\n",
       "  'cast': 'Jim Sturgess, Kevin Spacey, Kate Bosworth, Aaron Yoo, Liza Lapira, Jacob Pitts, Laurence Fishburne, Jack McGee, Josh Gad, Sam Golzari, Helen Carey, Jack Gilpin',\n",
       "  'country': 'United States',\n",
       "  'date_added': 'January 1, 2020',\n",
       "  'release_year': '2008',\n",
       "  'rating': 'PG-13',\n",
       "  'duration': '123 min',\n",
       "  'listed_in': 'Dramas',\n",
       "  'description': 'A brilliant group of students become card-counting experts with the intent of swindling millions out of Las Vegas casinos by playing blackjack.'},\n",
       " {'show_id': 's10',\n",
       "  'type': 'Movie',\n",
       "  'title': '1920',\n",
       "  'director': 'Vikram Bhatt',\n",
       "  'cast': 'Rajneesh Duggal, Adah Sharma, Indraneil Sengupta, Anjori Alagh, Rajendranath Zutshi, Vipin Sharma, Amin Hajee, Shri Vallabh Vyas',\n",
       "  'country': 'India',\n",
       "  'date_added': 'December 15, 2017',\n",
       "  'release_year': '2008',\n",
       "  'rating': 'TV-MA',\n",
       "  'duration': '143 min',\n",
       "  'listed_in': 'Horror Movies, International Movies, Thrillers',\n",
       "  'description': 'An architect and his wife move into a castle that is slated to become a luxury hotel. But something inside is determined to stop the renovation.'}]"
      ]
     },
     "execution_count": 42,
     "metadata": {},
     "output_type": "execute_result"
    }
   ],
   "source": [
    "movies.take(2)"
   ]
  },
  {
   "cell_type": "code",
   "execution_count": null,
   "id": "bdf1e0b1",
   "metadata": {},
   "outputs": [],
   "source": []
  },
  {
   "cell_type": "markdown",
   "id": "d6fbd08f",
   "metadata": {},
   "source": [
    "# List all the movies whose duration is greater than 100 mins ?"
   ]
  },
  {
   "cell_type": "code",
   "execution_count": 18,
   "id": "052708bf",
   "metadata": {},
   "outputs": [],
   "source": [
    "pairs = data.map(lambda x: (int(x['duration'].split(\" \")[0]), x['title']))"
   ]
  },
  {
   "cell_type": "code",
   "execution_count": 38,
   "id": "06ab2b8d",
   "metadata": {},
   "outputs": [
    {
     "data": {
      "text/plain": [
       "[(4, '3%'),\n",
       " (93, '7:19'),\n",
       " (78, '23:59'),\n",
       " (80, '9'),\n",
       " (123, '21'),\n",
       " (1, '46'),\n",
       " (95, '122'),\n",
       " (119, '187'),\n",
       " (118, '706'),\n",
       " (143, '1920')]"
      ]
     },
     "execution_count": 38,
     "metadata": {},
     "output_type": "execute_result"
    }
   ],
   "source": [
    "pairs.take(10)"
   ]
  },
  {
   "cell_type": "code",
   "execution_count": 20,
   "id": "e8e38691",
   "metadata": {},
   "outputs": [],
   "source": [
    "duration_above_hundred= pairs.filter(lambda x: x[0] >100)"
   ]
  },
  {
   "cell_type": "code",
   "execution_count": 37,
   "id": "ef3190cf",
   "metadata": {},
   "outputs": [
    {
     "data": {
      "text/plain": [
       "['21',\n",
       " '187',\n",
       " '706',\n",
       " '1920',\n",
       " '1922',\n",
       " 'Oct-01',\n",
       " '22-Jul',\n",
       " '15-Aug',\n",
       " '\\u200b\\u200bKuch Bheege Alfaaz',\n",
       " '\\u200bGoli Soda 2']"
      ]
     },
     "execution_count": 37,
     "metadata": {},
     "output_type": "execute_result"
    }
   ],
   "source": [
    "duration_above_hundred.take(10)"
   ]
  },
  {
   "cell_type": "code",
   "execution_count": 22,
   "id": "9931c2d5",
   "metadata": {},
   "outputs": [
    {
     "data": {
      "text/plain": [
       "2430"
      ]
     },
     "execution_count": 22,
     "metadata": {},
     "output_type": "execute_result"
    }
   ],
   "source": [
    "duration_above_hundred.count()"
   ]
  },
  {
   "cell_type": "code",
   "execution_count": 23,
   "id": "134dd777",
   "metadata": {},
   "outputs": [],
   "source": [
    "duration_above_hundred=duration_above_hundred.map(lambda x: x[1])"
   ]
  },
  {
   "cell_type": "code",
   "execution_count": 36,
   "id": "cb6be0dc",
   "metadata": {},
   "outputs": [
    {
     "data": {
      "text/plain": [
       "['21',\n",
       " '187',\n",
       " '706',\n",
       " '1920',\n",
       " '1922',\n",
       " 'Oct-01',\n",
       " '22-Jul',\n",
       " '15-Aug',\n",
       " '\\u200b\\u200bKuch Bheege Alfaaz',\n",
       " '\\u200bGoli Soda 2']"
      ]
     },
     "execution_count": 36,
     "metadata": {},
     "output_type": "execute_result"
    }
   ],
   "source": [
    "duration_above_hundred.take(10)"
   ]
  },
  {
   "cell_type": "code",
   "execution_count": null,
   "id": "da6bb3f3",
   "metadata": {},
   "outputs": [],
   "source": []
  },
  {
   "cell_type": "markdown",
   "id": "656636b8",
   "metadata": {},
   "source": [
    "# List movies played by “Kareena Kapoor” ?"
   ]
  },
  {
   "cell_type": "code",
   "execution_count": 25,
   "id": "1fd84f8e",
   "metadata": {},
   "outputs": [],
   "source": [
    "kareena = data.map(lambda x: (x['cast'].split(\",\")[0], x['title']))"
   ]
  },
  {
   "cell_type": "code",
   "execution_count": 35,
   "id": "4dbe2f79",
   "metadata": {},
   "outputs": [
    {
     "data": {
      "text/plain": [
       "[('João Miguel', '3%'),\n",
       " ('Demián Bichir', '7:19'),\n",
       " ('Tedd Chan', '23:59'),\n",
       " ('Elijah Wood', '9'),\n",
       " ('Jim Sturgess', '21'),\n",
       " ('Erdal Beşikçioğlu', '46'),\n",
       " ('Amina Khalil', '122'),\n",
       " ('Samuel L. Jackson', '187'),\n",
       " ('Divya Dutta', '706'),\n",
       " ('Rajneesh Duggal', '1920')]"
      ]
     },
     "execution_count": 35,
     "metadata": {},
     "output_type": "execute_result"
    }
   ],
   "source": [
    "kareena.take(10)"
   ]
  },
  {
   "cell_type": "code",
   "execution_count": 27,
   "id": "0779022b",
   "metadata": {},
   "outputs": [],
   "source": [
    "kareena1=[]\n",
    "kareenaa= kareena.groupByKey()\n",
    "for t in kareenaa.collect():\n",
    "    kareena1.append((t[0],[i for i in t[1]]))"
   ]
  },
  {
   "cell_type": "code",
   "execution_count": 29,
   "id": "59cb0b46",
   "metadata": {},
   "outputs": [],
   "source": [
    "movie_list_by_kareena_kapoor=sc.parallelize(kareena1)"
   ]
  },
  {
   "cell_type": "code",
   "execution_count": 30,
   "id": "a54d968b",
   "metadata": {},
   "outputs": [],
   "source": [
    "movie_list_by_kareena_kapoor= movie_list_by_kareena_kapoor.filter(lambda x: x[0]!='')"
   ]
  },
  {
   "cell_type": "code",
   "execution_count": 34,
   "id": "16b89541",
   "metadata": {},
   "outputs": [
    {
     "data": {
      "text/plain": [
       "[('Tedd Chan', ['23:59']),\n",
       " ('Jim Sturgess', ['21', 'Kidnapping Mr. Heineken']),\n",
       " ('Amina Khalil', ['122']),\n",
       " ('Omar Epps', ['3022']),\n",
       " ('Sadiq Daba', ['Oct-01']),\n",
       " ('Anders Danielsen Lie', ['22-Jul']),\n",
       " ('Rahul Pethe', ['15-Aug']),\n",
       " ('Soumitra Chatterjee', ['\\u200bMayurakshi', 'Peace Haven']),\n",
       " ('Yoo Ah-in', ['#Alive', 'Burning', 'Chicago Typewriter']),\n",
       " ('Helen Mirren',\n",
       "  ['#AnneFrank - Parallel Stories',\n",
       "   \"Legend of the Guardians: The Owls of Ga'Hoole\",\n",
       "   'The Hundred-Foot Journey',\n",
       "   'Winchester'])]"
      ]
     },
     "execution_count": 34,
     "metadata": {},
     "output_type": "execute_result"
    }
   ],
   "source": [
    "movie_list_by_kareena_kapoor.take(10)"
   ]
  },
  {
   "cell_type": "code",
   "execution_count": 32,
   "id": "c8786356",
   "metadata": {},
   "outputs": [
    {
     "data": {
      "text/plain": [
       "[['Chameli', 'Ek Main Aur Ekk Tu', 'Heroine', 'Kurbaan', 'Satyagraha']]"
      ]
     },
     "execution_count": 32,
     "metadata": {},
     "output_type": "execute_result"
    }
   ],
   "source": [
    "movie_list_by_kareena_kapoor.lookup(\"Kareena Kapoor\")"
   ]
  },
  {
   "cell_type": "code",
   "execution_count": null,
   "id": "8849596a",
   "metadata": {},
   "outputs": [],
   "source": []
  }
 ],
 "metadata": {
  "kernelspec": {
   "display_name": "Python 3",
   "language": "python",
   "name": "python3"
  },
  "language_info": {
   "codemirror_mode": {
    "name": "ipython",
    "version": 3
   },
   "file_extension": ".py",
   "mimetype": "text/x-python",
   "name": "python",
   "nbconvert_exporter": "python",
   "pygments_lexer": "ipython3",
   "version": "3.8.5"
  }
 },
 "nbformat": 4,
 "nbformat_minor": 5
}
